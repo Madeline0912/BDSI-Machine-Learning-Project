{
  "cells": [
    {
      "cell_type": "markdown",
      "metadata": {
        "id": "H8vWyPztG69V"
      },
      "source": [
        "\n",
        "# Random Forest\n"
      ]
    },
    {
      "cell_type": "markdown",
      "metadata": {
        "id": "fDdwc6Cf2LRF"
      },
      "source": [
        "# Setup Functions"
      ]
    },
    {
      "cell_type": "code",
      "execution_count": null,
      "metadata": {
        "colab": {
          "base_uri": "https://localhost:8080/"
        },
        "id": "1nAnQl2qG69Y",
        "outputId": "4596be9a-9e51-4a62-c186-c4efbd5b0c9c"
      },
      "outputs": [
        {
          "name": "stdout",
          "output_type": "stream",
          "text": [
            "Looking in indexes: https://pypi.org/simple, https://us-python.pkg.dev/colab-wheels/public/simple/\n",
            "Collecting wget\n",
            "  Downloading wget-3.2.zip (10 kB)\n",
            "Building wheels for collected packages: wget\n",
            "  Building wheel for wget (setup.py) ... \u001b[?25l\u001b[?25hdone\n",
            "  Created wheel for wget: filename=wget-3.2-py3-none-any.whl size=9675 sha256=71fcc2b242729798dcc75915403a0da50f8bc432acc97f460fa5e04d401480ed\n",
            "  Stored in directory: /root/.cache/pip/wheels/a1/b6/7c/0e63e34eb06634181c63adacca38b79ff8f35c37e3c13e3c02\n",
            "Successfully built wget\n",
            "Installing collected packages: wget\n",
            "Successfully installed wget-3.2\n"
          ]
        }
      ],
      "source": [
        "#@title Run to Set Up\n",
        "!pip install -U wget\n",
        "!rm -rf data.zip data lib\n",
        "!mkdir lib\n",
        "\n",
        "import wget\n",
        "wget.download('https://github.com/comp-hci-lab/BDSI_2021_ML/raw/master/lib/config.yaml', 'lib/config.yaml')\n",
        "wget.download('https://github.com/comp-hci-lab/BDSI_2021_ML/raw/master/lib/helper.py', 'lib/helper.py')\n",
        "wget.download('https://github.com/comp-hci-lab/BDSI_2021_ML/raw/master/data.zip', 'data.zip')\n",
        "\n",
        "import zipfile\n",
        "with zipfile.ZipFile(\"data.zip\",\"r\") as zip_ref:\n",
        "    zip_ref.extractall(\".\")"
      ]
    },
    {
      "cell_type": "code",
      "execution_count": null,
      "metadata": {
        "id": "rpVlDJYZG69d"
      },
      "outputs": [],
      "source": [
        "import numpy as np\n",
        "import pandas as pd\n",
        "from tqdm import tqdm\n",
        "import matplotlib.pyplot as plt\n",
        "from sklearn.svm import SVC\n",
        "from sklearn import metrics, exceptions\n",
        "\n",
        "from lib.helper import load_data\n",
        "from lib.helper import load_data, config\n",
        "from sklearn.preprocessing import MinMaxScaler\n",
        "from sklearn.model_selection import train_test_split\n",
        "from sklearn.preprocessing import OneHotEncoder\n",
        "\n",
        "from sklearn.ensemble import RandomForestClassifier\n",
        "from sklearn.model_selection import train_test_split\n",
        "from sklearn.datasets import make_classification\n",
        "from sklearn.model_selection import cross_val_score\n",
        "from sklearn.model_selection import RepeatedStratifiedKFold\n",
        "\n",
        "from sklearn.model_selection import RandomizedSearchCV\n"
      ]
    },
    {
      "cell_type": "code",
      "execution_count": null,
      "metadata": {
        "colab": {
          "base_uri": "https://localhost:8080/"
        },
        "id": "ZNqJ3vg4G69f",
        "outputId": "d3566516-4290-47ae-a509-98d8d1bda17c"
      },
      "outputs": [
        {
          "name": "stderr",
          "output_type": "stream",
          "text": [
            "Loading files from disk: 100%|██████████| 10000/10000 [00:29<00:00, 340.95it/s]\n"
          ]
        }
      ],
      "source": [
        "N = 10000 # we are selecting first 2500 participant for this tutorial (you can choose upto 10k)\n",
        "raw_data, df_labels = load_data(N)"
      ]
    },
    {
      "cell_type": "code",
      "execution_count": null,
      "metadata": {
        "colab": {
          "base_uri": "https://localhost:8080/"
        },
        "id": "wCA5Vnr2G5ob",
        "outputId": "e05a4c04-5246-451d-a79e-06bb0545961d"
      },
      "outputs": [
        {
          "data": {
            "text/plain": [
              "10000"
            ]
          },
          "execution_count": 4,
          "metadata": {},
          "output_type": "execute_result"
        }
      ],
      "source": [
        "len(raw_data)"
      ]
    },
    {
      "cell_type": "code",
      "execution_count": null,
      "metadata": {
        "colab": {
          "base_uri": "https://localhost:8080/"
        },
        "id": "5lCXSnA3rxdI",
        "outputId": "90b49b07-6df3-4058-f1dc-f7b47ce5414d"
      },
      "outputs": [
        {
          "data": {
            "text/plain": [
              "(10000, 3)"
            ]
          },
          "execution_count": 5,
          "metadata": {},
          "output_type": "execute_result"
        }
      ],
      "source": [
        "df_labels.shape"
      ]
    },
    {
      "cell_type": "code",
      "execution_count": null,
      "metadata": {
        "colab": {
          "base_uri": "https://localhost:8080/",
          "height": 206
        },
        "id": "qVGMnqIvr7mt",
        "outputId": "b60e9f5c-c2b8-402d-a976-8c6cd0f92f81"
      },
      "outputs": [
        {
          "data": {
            "text/html": [
              "\n",
              "  <div id=\"df-7f6b149b-5e16-4e66-b129-49c92a8ba764\">\n",
              "    <div class=\"colab-df-container\">\n",
              "      <div>\n",
              "<style scoped>\n",
              "    .dataframe tbody tr th:only-of-type {\n",
              "        vertical-align: middle;\n",
              "    }\n",
              "\n",
              "    .dataframe tbody tr th {\n",
              "        vertical-align: top;\n",
              "    }\n",
              "\n",
              "    .dataframe thead th {\n",
              "        text-align: right;\n",
              "    }\n",
              "</style>\n",
              "<table border=\"1\" class=\"dataframe\">\n",
              "  <thead>\n",
              "    <tr style=\"text-align: right;\">\n",
              "      <th></th>\n",
              "      <th>RecordID</th>\n",
              "      <th>In-hospital_death</th>\n",
              "      <th>30-day_mortality</th>\n",
              "    </tr>\n",
              "  </thead>\n",
              "  <tbody>\n",
              "    <tr>\n",
              "      <th>0</th>\n",
              "      <td>132539</td>\n",
              "      <td>-1.0</td>\n",
              "      <td>-1.0</td>\n",
              "    </tr>\n",
              "    <tr>\n",
              "      <th>1</th>\n",
              "      <td>132540</td>\n",
              "      <td>-1.0</td>\n",
              "      <td>-1.0</td>\n",
              "    </tr>\n",
              "    <tr>\n",
              "      <th>2</th>\n",
              "      <td>132541</td>\n",
              "      <td>-1.0</td>\n",
              "      <td>-1.0</td>\n",
              "    </tr>\n",
              "    <tr>\n",
              "      <th>3</th>\n",
              "      <td>132543</td>\n",
              "      <td>-1.0</td>\n",
              "      <td>-1.0</td>\n",
              "    </tr>\n",
              "    <tr>\n",
              "      <th>4</th>\n",
              "      <td>132545</td>\n",
              "      <td>-1.0</td>\n",
              "      <td>-1.0</td>\n",
              "    </tr>\n",
              "  </tbody>\n",
              "</table>\n",
              "</div>\n",
              "      <button class=\"colab-df-convert\" onclick=\"convertToInteractive('df-7f6b149b-5e16-4e66-b129-49c92a8ba764')\"\n",
              "              title=\"Convert this dataframe to an interactive table.\"\n",
              "              style=\"display:none;\">\n",
              "        \n",
              "  <svg xmlns=\"http://www.w3.org/2000/svg\" height=\"24px\"viewBox=\"0 0 24 24\"\n",
              "       width=\"24px\">\n",
              "    <path d=\"M0 0h24v24H0V0z\" fill=\"none\"/>\n",
              "    <path d=\"M18.56 5.44l.94 2.06.94-2.06 2.06-.94-2.06-.94-.94-2.06-.94 2.06-2.06.94zm-11 1L8.5 8.5l.94-2.06 2.06-.94-2.06-.94L8.5 2.5l-.94 2.06-2.06.94zm10 10l.94 2.06.94-2.06 2.06-.94-2.06-.94-.94-2.06-.94 2.06-2.06.94z\"/><path d=\"M17.41 7.96l-1.37-1.37c-.4-.4-.92-.59-1.43-.59-.52 0-1.04.2-1.43.59L10.3 9.45l-7.72 7.72c-.78.78-.78 2.05 0 2.83L4 21.41c.39.39.9.59 1.41.59.51 0 1.02-.2 1.41-.59l7.78-7.78 2.81-2.81c.8-.78.8-2.07 0-2.86zM5.41 20L4 18.59l7.72-7.72 1.47 1.35L5.41 20z\"/>\n",
              "  </svg>\n",
              "      </button>\n",
              "      \n",
              "  <style>\n",
              "    .colab-df-container {\n",
              "      display:flex;\n",
              "      flex-wrap:wrap;\n",
              "      gap: 12px;\n",
              "    }\n",
              "\n",
              "    .colab-df-convert {\n",
              "      background-color: #E8F0FE;\n",
              "      border: none;\n",
              "      border-radius: 50%;\n",
              "      cursor: pointer;\n",
              "      display: none;\n",
              "      fill: #1967D2;\n",
              "      height: 32px;\n",
              "      padding: 0 0 0 0;\n",
              "      width: 32px;\n",
              "    }\n",
              "\n",
              "    .colab-df-convert:hover {\n",
              "      background-color: #E2EBFA;\n",
              "      box-shadow: 0px 1px 2px rgba(60, 64, 67, 0.3), 0px 1px 3px 1px rgba(60, 64, 67, 0.15);\n",
              "      fill: #174EA6;\n",
              "    }\n",
              "\n",
              "    [theme=dark] .colab-df-convert {\n",
              "      background-color: #3B4455;\n",
              "      fill: #D2E3FC;\n",
              "    }\n",
              "\n",
              "    [theme=dark] .colab-df-convert:hover {\n",
              "      background-color: #434B5C;\n",
              "      box-shadow: 0px 1px 3px 1px rgba(0, 0, 0, 0.15);\n",
              "      filter: drop-shadow(0px 1px 2px rgba(0, 0, 0, 0.3));\n",
              "      fill: #FFFFFF;\n",
              "    }\n",
              "  </style>\n",
              "\n",
              "      <script>\n",
              "        const buttonEl =\n",
              "          document.querySelector('#df-7f6b149b-5e16-4e66-b129-49c92a8ba764 button.colab-df-convert');\n",
              "        buttonEl.style.display =\n",
              "          google.colab.kernel.accessAllowed ? 'block' : 'none';\n",
              "\n",
              "        async function convertToInteractive(key) {\n",
              "          const element = document.querySelector('#df-7f6b149b-5e16-4e66-b129-49c92a8ba764');\n",
              "          const dataTable =\n",
              "            await google.colab.kernel.invokeFunction('convertToInteractive',\n",
              "                                                     [key], {});\n",
              "          if (!dataTable) return;\n",
              "\n",
              "          const docLinkHtml = 'Like what you see? Visit the ' +\n",
              "            '<a target=\"_blank\" href=https://colab.research.google.com/notebooks/data_table.ipynb>data table notebook</a>'\n",
              "            + ' to learn more about interactive tables.';\n",
              "          element.innerHTML = '';\n",
              "          dataTable['output_type'] = 'display_data';\n",
              "          await google.colab.output.renderOutput(dataTable, element);\n",
              "          const docLink = document.createElement('div');\n",
              "          docLink.innerHTML = docLinkHtml;\n",
              "          element.appendChild(docLink);\n",
              "        }\n",
              "      </script>\n",
              "    </div>\n",
              "  </div>\n",
              "  "
            ],
            "text/plain": [
              "   RecordID  In-hospital_death  30-day_mortality\n",
              "0    132539               -1.0              -1.0\n",
              "1    132540               -1.0              -1.0\n",
              "2    132541               -1.0              -1.0\n",
              "3    132543               -1.0              -1.0\n",
              "4    132545               -1.0              -1.0"
            ]
          },
          "execution_count": 6,
          "metadata": {},
          "output_type": "execute_result"
        }
      ],
      "source": [
        "df_labels.head()"
      ]
    },
    {
      "cell_type": "markdown",
      "metadata": {
        "id": "bNZX83l4FMhq"
      },
      "source": [
        "## Split code into 3 sets (2,500, 5,000, 2,500) for development, training, and testing"
      ]
    },
    {
      "cell_type": "code",
      "execution_count": null,
      "metadata": {
        "id": "gyuYLC-lI5hC"
      },
      "outputs": [],
      "source": [
        "from itertools import islice\n",
        "\n",
        "inc = iter(raw_data.items())\n",
        "raw_data_dev = dict(islice(inc, len(raw_data) // 4))\n",
        "raw_data_train = dict(islice(inc, len(raw_data) // 2))\n",
        "raw_data_test = dict(inc)"
      ]
    },
    {
      "cell_type": "code",
      "execution_count": null,
      "metadata": {
        "colab": {
          "base_uri": "https://localhost:8080/"
        },
        "id": "UKIDHKYjJF4c",
        "outputId": "0f063950-7899-4c7a-daaa-815df5366881"
      },
      "outputs": [
        {
          "name": "stdout",
          "output_type": "stream",
          "text": [
            "2500\n",
            "5000\n",
            "2500\n"
          ]
        }
      ],
      "source": [
        "print(len(raw_data_dev))\n",
        "print(len(raw_data_train))\n",
        "print(len(raw_data_test))"
      ]
    },
    {
      "cell_type": "code",
      "execution_count": null,
      "metadata": {
        "id": "1DdwScgksDYa"
      },
      "outputs": [],
      "source": [
        "df_labels_dev = df_labels.iloc[:2500,:]\n",
        "df_labels_train = df_labels.iloc[2500:7500,:]\n",
        "df_labels_test = df_labels.iloc[7500:,:]"
      ]
    },
    {
      "cell_type": "code",
      "execution_count": null,
      "metadata": {
        "colab": {
          "base_uri": "https://localhost:8080/",
          "height": 165
        },
        "id": "mAOtBqFbsuEm",
        "outputId": "962a4460-6087-4fd4-b3ed-f26395db8db9"
      },
      "outputs": [
        {
          "ename": "NameError",
          "evalue": "ignored",
          "output_type": "error",
          "traceback": [
            "\u001b[0;31m---------------------------------------------------------------------------\u001b[0m",
            "\u001b[0;31mNameError\u001b[0m                                 Traceback (most recent call last)",
            "\u001b[0;32m<ipython-input-10-a9e7a92cfa62>\u001b[0m in \u001b[0;36m<module>\u001b[0;34m\u001b[0m\n\u001b[0;32m----> 1\u001b[0;31m \u001b[0mdf_2\u001b[0m\u001b[0;34m.\u001b[0m\u001b[0mshape\u001b[0m\u001b[0;34m\u001b[0m\u001b[0;34m\u001b[0m\u001b[0m\n\u001b[0m",
            "\u001b[0;31mNameError\u001b[0m: name 'df_2' is not defined"
          ]
        }
      ],
      "source": [
        "df_2.shape"
      ]
    },
    {
      "cell_type": "code",
      "execution_count": null,
      "metadata": {
        "id": "orI-l-ZHG69j"
      },
      "outputs": [],
      "source": [
        "#@title Define preprocessing functions. { display-mode: \"form\" }\n",
        "#@markdown - `impute_missing_data(X)`\n",
        "#@markdown - `normalize_feature_matrix(X)`\n",
        "#@markdown - `generate_feature_vector(X)`\n",
        "#@markdown - `series_to_supervised(data,var_name)`\n",
        "\n",
        "from sklearn.impute import SimpleImputer\n",
        "import pdb\n",
        "from itertools import product\n",
        "\n",
        "\n",
        "def impute_missing_data(X):\n",
        "    \"\"\"\n",
        "    For each feature column, impute missing values  (np.nan) with the\n",
        "    population mean for that feature.\n",
        "\n",
        "    Args:\n",
        "        X: np.array, shape (N, d). X could contain missing values\n",
        "    Returns:\n",
        "        X: np.array, shape (N, d). X does not contain any missing values\n",
        "    \"\"\"\n",
        "    return SimpleImputer(strategy='constant',fill_value=-1).fit_transform(X)\n",
        "\n",
        "\n",
        "def normalize_feature_matrix(X):\n",
        "    \"\"\"\n",
        "    For each feature column, normalize all values to range [0, 1].\n",
        "\n",
        "    Args:\n",
        "        X: np.array, shape (N, d).\n",
        "    Returns:\n",
        "        X: np.array, shape (N, d). Values are normalized per column.\n",
        "    \"\"\"\n",
        "    from sklearn.preprocessing import MinMaxScaler\n",
        "    return MinMaxScaler().fit_transform(X)\n",
        "\n",
        "\n",
        "def generate_feature_vector(df, window_number=1):\n",
        "    \"\"\"\n",
        "    Reads a dataframe containing all measurements for a single patient\n",
        "    within the first 48 hours of the ICU admission, and convert it into\n",
        "    a feature vector.\n",
        "\n",
        "    Args:\n",
        "        df: pd.Dataframe, with columns [Time, Variable, Value]\n",
        "        window_number: number of time frame windows to create\n",
        "\n",
        "    Returns:\n",
        "        a python dictionary of format {feature_name: feature_value}\n",
        "        for example, {'Age': 32, 'Gender': 0, 'mean_HR': 84, ...}\n",
        "    \"\"\"\n",
        "    static_variables = config['invariant']\n",
        "    timeseries_variables = config['timeseries']\n",
        "\n",
        "    # Replace unknow values\n",
        "    df = df.replace({-1: np.nan})\n",
        "\n",
        "    # Add windows to dataframe\n",
        "    df = add_windows(df,window_number)\n",
        "\n",
        "    # Split time invariant and time series\n",
        "    static, timeseries = df.iloc[0:5], df.iloc[5:].copy()\n",
        "    static = static.pivot('Time', 'Variable', 'Value')\n",
        "\n",
        "    # Setup static\n",
        "    feature_dict = static.iloc[0].to_dict()\n",
        "    if (timeseries.size==0): return feature_dict\n",
        "\n",
        "    # Setup timeseries\n",
        "    stats = ['mean','missing','max','min','count','std','median','quant25','quant75']\n",
        "    timeseries_dict = {};\n",
        "    windows = list(range(0,window_number))\n",
        "\n",
        "    for stat in stats:\n",
        "      timeseries[stat+\"Name\"] = timeseries[['Variable','Window']].apply(lambda x:str(x[0])+stat+str(x[1]),axis=1)\n",
        "      window_labels = [stat+str(w) for w in windows]\n",
        "      labels = [e1+str(e2) for e1,e2 in product(timeseries_variables, window_labels)]\n",
        "      if stat == 'missing':\n",
        "        timeseries_dict.update(dict.fromkeys(labels,1))\n",
        "      else:\n",
        "        timeseries_dict.update(dict.fromkeys(labels,np.nan))\n",
        "\n",
        "    means = timeseries[[\"meanName\",'Value']].groupby([\"meanName\"]).mean()\n",
        "    mean_values = means['Value'].values.tolist()\n",
        "    timeseries_dict.update(dict(zip(means.index,mean_values)))\n",
        "\n",
        "    counts = timeseries[[\"countName\",'Value']].groupby([\"countName\"]).count()\n",
        "    count_values = counts['Value'].values.tolist()\n",
        "    timeseries_dict.update(dict(zip(counts.index,count_values)))\n",
        "\n",
        "    mins = timeseries[[\"minName\",'Value']].groupby([\"minName\"]).min()\n",
        "    min_values = mins['Value'].values.tolist()\n",
        "    timeseries_dict.update(dict(zip(mins.index,min_values)))\n",
        "\n",
        "    maxs = timeseries[[\"maxName\",'Value']].groupby([\"maxName\"]).max()\n",
        "    max_values = maxs['Value'].values.tolist()\n",
        "    timeseries_dict.update(dict(zip(maxs.index,max_values)))\n",
        "\n",
        "    stds = timeseries[[\"stdName\",'Value']].groupby([\"stdName\"]).std(ddof=0)\n",
        "    std_values = stds['Value'].values.tolist()\n",
        "    timeseries_dict.update(dict(zip(stds.index,std_values)))\n",
        "\n",
        "    missing = timeseries[[\"missingName\",'Value']].groupby([\"missingName\"]).mean()\n",
        "    missing['Value'] = missing['Value'].apply(lambda x:0)\n",
        "    timeseries_dict.update(dict(zip(missing.index,missing['Value'].values.tolist())))\n",
        "\n",
        "    medians = timeseries[[\"medianName\",'Value']].groupby([\"medianName\"]).median()\n",
        "    median_values = medians['Value'].values.tolist()\n",
        "    timeseries_dict.update(dict(zip(medians.index,median_values)))\n",
        "\n",
        "    quant25 = timeseries[[\"quant25Name\",'Value']].groupby([\"quant25Name\"]).quantile(.25)\n",
        "    quant25_values = quant25['Value'].values.tolist()\n",
        "    timeseries_dict.update(dict(zip(quant25.index,quant25_values)))\n",
        "\n",
        "    quant75 = timeseries[[\"quant75Name\",'Value']].groupby([\"quant75Name\"]).quantile(.75)\n",
        "    quant75_values = quant75['Value'].values.tolist()\n",
        "    timeseries_dict.update(dict(zip(quant75.index,quant75_values)))\n",
        "\n",
        "    feature_dict.update(timeseries_dict)\n",
        "\n",
        "\n",
        "    return feature_dict\n",
        "\n",
        "\n",
        "\n",
        "\n",
        "def add_windows(df,num=1,total=48):\n",
        "  \"\"\"\n",
        "  Args:\n",
        "    df -- the dataframe to add column to\n",
        "    num -- number of windows over the 48 hour period\"\"\"\n",
        "\n",
        "  window_size = int(total/num)\n",
        "\n",
        "  #df['Window'] = df['Time'].apply(lambda x : int(int(x.split(':')[0])/window_size))\n",
        "  df['Window'] = df['Time'].apply(lambda x : int(x[0:2])//window_size)\n",
        "\n",
        "  return df\n",
        "\n",
        "\n",
        "\n",
        "\n"
      ]
    },
    {
      "cell_type": "code",
      "execution_count": null,
      "metadata": {
        "colab": {
          "base_uri": "https://localhost:8080/"
        },
        "id": "ND3-ak7giY_r",
        "outputId": "624ec7b8-8f25-4f46-a9e6-fc998f54bcd7"
      },
      "outputs": [
        {
          "name": "stdout",
          "output_type": "stream",
          "text": [
            "37.85\n",
            "0.25\n",
            "37.6\n",
            "2\n",
            "38.1\n",
            "37.85\n",
            "37.725\n",
            "37.975\n"
          ]
        }
      ],
      "source": [
        "# test feature vector on single dataframe\n",
        "IDs = sorted(raw_data.keys())\n",
        "ID = IDs[0]\n",
        "df = raw_data[ID]\n",
        "vec = generate_feature_vector(df,8)\n",
        "print(vec['Tempmean1'])\n",
        "print(vec['Tempstd1'])\n",
        "print(vec['Tempmin1'])\n",
        "print(vec['Tempcount1'])\n",
        "print(vec['Tempmax1'])\n",
        "print(vec['Tempmedian1'])\n",
        "print(vec['Tempquant251'])\n",
        "print(vec['Tempquant751'])"
      ]
    },
    {
      "cell_type": "code",
      "execution_count": null,
      "metadata": {
        "colab": {
          "base_uri": "https://localhost:8080/",
          "height": 328
        },
        "id": "MQDesyCpfU2c",
        "outputId": "52b3da06-5e7f-457e-813e-dfc0ba56e7fb"
      },
      "outputs": [
        {
          "name": "stderr",
          "output_type": "stream",
          "text": [
            "generating feature vectors:   1%|          | 56/10000 [00:04<14:39, 11.31it/s]"
          ]
        },
        {
          "ename": "KeyboardInterrupt",
          "evalue": "ignored",
          "output_type": "error",
          "traceback": [
            "\u001b[0;31m---------------------------------------------------------------------------\u001b[0m",
            "\u001b[0;31mKeyboardInterrupt\u001b[0m                         Traceback (most recent call last)",
            "\u001b[0;32m<ipython-input-14-2df1cb8ac0c7>\u001b[0m in \u001b[0;36m<module>\u001b[0;34m\u001b[0m\n\u001b[0;32m----> 1\u001b[0;31m \u001b[0mfeatures\u001b[0m \u001b[0;34m=\u001b[0m \u001b[0;34m[\u001b[0m\u001b[0mgenerate_feature_vector\u001b[0m\u001b[0;34m(\u001b[0m\u001b[0mdf\u001b[0m\u001b[0;34m,\u001b[0m\u001b[0mwindow_number\u001b[0m\u001b[0;34m=\u001b[0m\u001b[0;36m4\u001b[0m\u001b[0;34m)\u001b[0m \u001b[0;32mfor\u001b[0m \u001b[0m_\u001b[0m\u001b[0;34m,\u001b[0m \u001b[0mdf\u001b[0m \u001b[0;32min\u001b[0m \u001b[0mtqdm\u001b[0m\u001b[0;34m(\u001b[0m\u001b[0msorted\u001b[0m\u001b[0;34m(\u001b[0m\u001b[0mraw_data\u001b[0m\u001b[0;34m.\u001b[0m\u001b[0mitems\u001b[0m\u001b[0;34m(\u001b[0m\u001b[0;34m)\u001b[0m\u001b[0;34m)\u001b[0m\u001b[0;34m,\u001b[0m\u001b[0mdesc\u001b[0m\u001b[0;34m=\u001b[0m\u001b[0;34m\"generating feature vectors\"\u001b[0m\u001b[0;34m,\u001b[0m\u001b[0mleave\u001b[0m\u001b[0;34m=\u001b[0m\u001b[0;32mTrue\u001b[0m\u001b[0;34m,\u001b[0m\u001b[0mposition\u001b[0m\u001b[0;34m=\u001b[0m\u001b[0;36m0\u001b[0m\u001b[0;34m)\u001b[0m\u001b[0;34m]\u001b[0m\u001b[0;34m\u001b[0m\u001b[0;34m\u001b[0m\u001b[0m\n\u001b[0m",
            "\u001b[0;32m<ipython-input-14-2df1cb8ac0c7>\u001b[0m in \u001b[0;36m<listcomp>\u001b[0;34m(.0)\u001b[0m\n\u001b[0;32m----> 1\u001b[0;31m \u001b[0mfeatures\u001b[0m \u001b[0;34m=\u001b[0m \u001b[0;34m[\u001b[0m\u001b[0mgenerate_feature_vector\u001b[0m\u001b[0;34m(\u001b[0m\u001b[0mdf\u001b[0m\u001b[0;34m,\u001b[0m\u001b[0mwindow_number\u001b[0m\u001b[0;34m=\u001b[0m\u001b[0;36m4\u001b[0m\u001b[0;34m)\u001b[0m \u001b[0;32mfor\u001b[0m \u001b[0m_\u001b[0m\u001b[0;34m,\u001b[0m \u001b[0mdf\u001b[0m \u001b[0;32min\u001b[0m \u001b[0mtqdm\u001b[0m\u001b[0;34m(\u001b[0m\u001b[0msorted\u001b[0m\u001b[0;34m(\u001b[0m\u001b[0mraw_data\u001b[0m\u001b[0;34m.\u001b[0m\u001b[0mitems\u001b[0m\u001b[0;34m(\u001b[0m\u001b[0;34m)\u001b[0m\u001b[0;34m)\u001b[0m\u001b[0;34m,\u001b[0m\u001b[0mdesc\u001b[0m\u001b[0;34m=\u001b[0m\u001b[0;34m\"generating feature vectors\"\u001b[0m\u001b[0;34m,\u001b[0m\u001b[0mleave\u001b[0m\u001b[0;34m=\u001b[0m\u001b[0;32mTrue\u001b[0m\u001b[0;34m,\u001b[0m\u001b[0mposition\u001b[0m\u001b[0;34m=\u001b[0m\u001b[0;36m0\u001b[0m\u001b[0;34m)\u001b[0m\u001b[0;34m]\u001b[0m\u001b[0;34m\u001b[0m\u001b[0;34m\u001b[0m\u001b[0m\n\u001b[0m",
            "\u001b[0;32m<ipython-input-11-ee42ae01f5e4>\u001b[0m in \u001b[0;36mgenerate_feature_vector\u001b[0;34m(df, window_number)\u001b[0m\n\u001b[1;32m     73\u001b[0m \u001b[0;34m\u001b[0m\u001b[0m\n\u001b[1;32m     74\u001b[0m     \u001b[0;32mfor\u001b[0m \u001b[0mstat\u001b[0m \u001b[0;32min\u001b[0m \u001b[0mstats\u001b[0m\u001b[0;34m:\u001b[0m\u001b[0;34m\u001b[0m\u001b[0;34m\u001b[0m\u001b[0m\n\u001b[0;32m---> 75\u001b[0;31m       \u001b[0mtimeseries\u001b[0m\u001b[0;34m[\u001b[0m\u001b[0mstat\u001b[0m\u001b[0;34m+\u001b[0m\u001b[0;34m\"Name\"\u001b[0m\u001b[0;34m]\u001b[0m \u001b[0;34m=\u001b[0m \u001b[0mtimeseries\u001b[0m\u001b[0;34m[\u001b[0m\u001b[0;34m[\u001b[0m\u001b[0;34m'Variable'\u001b[0m\u001b[0;34m,\u001b[0m\u001b[0;34m'Window'\u001b[0m\u001b[0;34m]\u001b[0m\u001b[0;34m]\u001b[0m\u001b[0;34m.\u001b[0m\u001b[0mapply\u001b[0m\u001b[0;34m(\u001b[0m\u001b[0;32mlambda\u001b[0m \u001b[0mx\u001b[0m\u001b[0;34m:\u001b[0m\u001b[0mstr\u001b[0m\u001b[0;34m(\u001b[0m\u001b[0mx\u001b[0m\u001b[0;34m[\u001b[0m\u001b[0;36m0\u001b[0m\u001b[0;34m]\u001b[0m\u001b[0;34m)\u001b[0m\u001b[0;34m+\u001b[0m\u001b[0mstat\u001b[0m\u001b[0;34m+\u001b[0m\u001b[0mstr\u001b[0m\u001b[0;34m(\u001b[0m\u001b[0mx\u001b[0m\u001b[0;34m[\u001b[0m\u001b[0;36m1\u001b[0m\u001b[0;34m]\u001b[0m\u001b[0;34m)\u001b[0m\u001b[0;34m,\u001b[0m\u001b[0maxis\u001b[0m\u001b[0;34m=\u001b[0m\u001b[0;36m1\u001b[0m\u001b[0;34m)\u001b[0m\u001b[0;34m\u001b[0m\u001b[0;34m\u001b[0m\u001b[0m\n\u001b[0m\u001b[1;32m     76\u001b[0m       \u001b[0mwindow_labels\u001b[0m \u001b[0;34m=\u001b[0m \u001b[0;34m[\u001b[0m\u001b[0mstat\u001b[0m\u001b[0;34m+\u001b[0m\u001b[0mstr\u001b[0m\u001b[0;34m(\u001b[0m\u001b[0mw\u001b[0m\u001b[0;34m)\u001b[0m \u001b[0;32mfor\u001b[0m \u001b[0mw\u001b[0m \u001b[0;32min\u001b[0m \u001b[0mwindows\u001b[0m\u001b[0;34m]\u001b[0m\u001b[0;34m\u001b[0m\u001b[0;34m\u001b[0m\u001b[0m\n\u001b[1;32m     77\u001b[0m       \u001b[0mlabels\u001b[0m \u001b[0;34m=\u001b[0m \u001b[0;34m[\u001b[0m\u001b[0me1\u001b[0m\u001b[0;34m+\u001b[0m\u001b[0mstr\u001b[0m\u001b[0;34m(\u001b[0m\u001b[0me2\u001b[0m\u001b[0;34m)\u001b[0m \u001b[0;32mfor\u001b[0m \u001b[0me1\u001b[0m\u001b[0;34m,\u001b[0m\u001b[0me2\u001b[0m \u001b[0;32min\u001b[0m \u001b[0mproduct\u001b[0m\u001b[0;34m(\u001b[0m\u001b[0mtimeseries_variables\u001b[0m\u001b[0;34m,\u001b[0m \u001b[0mwindow_labels\u001b[0m\u001b[0;34m)\u001b[0m\u001b[0;34m]\u001b[0m\u001b[0;34m\u001b[0m\u001b[0;34m\u001b[0m\u001b[0m\n",
            "\u001b[0;32m/usr/local/lib/python3.7/dist-packages/pandas/core/frame.py\u001b[0m in \u001b[0;36mapply\u001b[0;34m(self, func, axis, raw, result_type, args, **kwargs)\u001b[0m\n\u001b[1;32m   8738\u001b[0m             \u001b[0mkwargs\u001b[0m\u001b[0;34m=\u001b[0m\u001b[0mkwargs\u001b[0m\u001b[0;34m,\u001b[0m\u001b[0;34m\u001b[0m\u001b[0;34m\u001b[0m\u001b[0m\n\u001b[1;32m   8739\u001b[0m         )\n\u001b[0;32m-> 8740\u001b[0;31m         \u001b[0;32mreturn\u001b[0m \u001b[0mop\u001b[0m\u001b[0;34m.\u001b[0m\u001b[0mapply\u001b[0m\u001b[0;34m(\u001b[0m\u001b[0;34m)\u001b[0m\u001b[0;34m\u001b[0m\u001b[0;34m\u001b[0m\u001b[0m\n\u001b[0m\u001b[1;32m   8741\u001b[0m \u001b[0;34m\u001b[0m\u001b[0m\n\u001b[1;32m   8742\u001b[0m     def applymap(\n",
            "\u001b[0;32m/usr/local/lib/python3.7/dist-packages/pandas/core/apply.py\u001b[0m in \u001b[0;36mapply\u001b[0;34m(self)\u001b[0m\n\u001b[1;32m    686\u001b[0m             \u001b[0;32mreturn\u001b[0m \u001b[0mself\u001b[0m\u001b[0;34m.\u001b[0m\u001b[0mapply_raw\u001b[0m\u001b[0;34m(\u001b[0m\u001b[0;34m)\u001b[0m\u001b[0;34m\u001b[0m\u001b[0;34m\u001b[0m\u001b[0m\n\u001b[1;32m    687\u001b[0m \u001b[0;34m\u001b[0m\u001b[0m\n\u001b[0;32m--> 688\u001b[0;31m         \u001b[0;32mreturn\u001b[0m \u001b[0mself\u001b[0m\u001b[0;34m.\u001b[0m\u001b[0mapply_standard\u001b[0m\u001b[0;34m(\u001b[0m\u001b[0;34m)\u001b[0m\u001b[0;34m\u001b[0m\u001b[0;34m\u001b[0m\u001b[0m\n\u001b[0m\u001b[1;32m    689\u001b[0m \u001b[0;34m\u001b[0m\u001b[0m\n\u001b[1;32m    690\u001b[0m     \u001b[0;32mdef\u001b[0m \u001b[0magg\u001b[0m\u001b[0;34m(\u001b[0m\u001b[0mself\u001b[0m\u001b[0;34m)\u001b[0m\u001b[0;34m:\u001b[0m\u001b[0;34m\u001b[0m\u001b[0;34m\u001b[0m\u001b[0m\n",
            "\u001b[0;32m/usr/local/lib/python3.7/dist-packages/pandas/core/apply.py\u001b[0m in \u001b[0;36mapply_standard\u001b[0;34m(self)\u001b[0m\n\u001b[1;32m    810\u001b[0m \u001b[0;34m\u001b[0m\u001b[0m\n\u001b[1;32m    811\u001b[0m     \u001b[0;32mdef\u001b[0m \u001b[0mapply_standard\u001b[0m\u001b[0;34m(\u001b[0m\u001b[0mself\u001b[0m\u001b[0;34m)\u001b[0m\u001b[0;34m:\u001b[0m\u001b[0;34m\u001b[0m\u001b[0;34m\u001b[0m\u001b[0m\n\u001b[0;32m--> 812\u001b[0;31m         \u001b[0mresults\u001b[0m\u001b[0;34m,\u001b[0m \u001b[0mres_index\u001b[0m \u001b[0;34m=\u001b[0m \u001b[0mself\u001b[0m\u001b[0;34m.\u001b[0m\u001b[0mapply_series_generator\u001b[0m\u001b[0;34m(\u001b[0m\u001b[0;34m)\u001b[0m\u001b[0;34m\u001b[0m\u001b[0;34m\u001b[0m\u001b[0m\n\u001b[0m\u001b[1;32m    813\u001b[0m \u001b[0;34m\u001b[0m\u001b[0m\n\u001b[1;32m    814\u001b[0m         \u001b[0;31m# wrap results\u001b[0m\u001b[0;34m\u001b[0m\u001b[0;34m\u001b[0m\u001b[0;34m\u001b[0m\u001b[0m\n",
            "\u001b[0;32m/usr/local/lib/python3.7/dist-packages/pandas/core/apply.py\u001b[0m in \u001b[0;36mapply_series_generator\u001b[0;34m(self)\u001b[0m\n\u001b[1;32m    826\u001b[0m             \u001b[0;32mfor\u001b[0m \u001b[0mi\u001b[0m\u001b[0;34m,\u001b[0m \u001b[0mv\u001b[0m \u001b[0;32min\u001b[0m \u001b[0menumerate\u001b[0m\u001b[0;34m(\u001b[0m\u001b[0mseries_gen\u001b[0m\u001b[0;34m)\u001b[0m\u001b[0;34m:\u001b[0m\u001b[0;34m\u001b[0m\u001b[0;34m\u001b[0m\u001b[0m\n\u001b[1;32m    827\u001b[0m                 \u001b[0;31m# ignore SettingWithCopy here in case the user mutates\u001b[0m\u001b[0;34m\u001b[0m\u001b[0;34m\u001b[0m\u001b[0;34m\u001b[0m\u001b[0m\n\u001b[0;32m--> 828\u001b[0;31m                 \u001b[0mresults\u001b[0m\u001b[0;34m[\u001b[0m\u001b[0mi\u001b[0m\u001b[0;34m]\u001b[0m \u001b[0;34m=\u001b[0m \u001b[0mself\u001b[0m\u001b[0;34m.\u001b[0m\u001b[0mf\u001b[0m\u001b[0;34m(\u001b[0m\u001b[0mv\u001b[0m\u001b[0;34m)\u001b[0m\u001b[0;34m\u001b[0m\u001b[0;34m\u001b[0m\u001b[0m\n\u001b[0m\u001b[1;32m    829\u001b[0m                 \u001b[0;32mif\u001b[0m \u001b[0misinstance\u001b[0m\u001b[0;34m(\u001b[0m\u001b[0mresults\u001b[0m\u001b[0;34m[\u001b[0m\u001b[0mi\u001b[0m\u001b[0;34m]\u001b[0m\u001b[0;34m,\u001b[0m \u001b[0mABCSeries\u001b[0m\u001b[0;34m)\u001b[0m\u001b[0;34m:\u001b[0m\u001b[0;34m\u001b[0m\u001b[0;34m\u001b[0m\u001b[0m\n\u001b[1;32m    830\u001b[0m                     \u001b[0;31m# If we have a view on v, we need to make a copy because\u001b[0m\u001b[0;34m\u001b[0m\u001b[0;34m\u001b[0m\u001b[0;34m\u001b[0m\u001b[0m\n",
            "\u001b[0;32m<ipython-input-11-ee42ae01f5e4>\u001b[0m in \u001b[0;36m<lambda>\u001b[0;34m(x)\u001b[0m\n\u001b[1;32m     73\u001b[0m \u001b[0;34m\u001b[0m\u001b[0m\n\u001b[1;32m     74\u001b[0m     \u001b[0;32mfor\u001b[0m \u001b[0mstat\u001b[0m \u001b[0;32min\u001b[0m \u001b[0mstats\u001b[0m\u001b[0;34m:\u001b[0m\u001b[0;34m\u001b[0m\u001b[0;34m\u001b[0m\u001b[0m\n\u001b[0;32m---> 75\u001b[0;31m       \u001b[0mtimeseries\u001b[0m\u001b[0;34m[\u001b[0m\u001b[0mstat\u001b[0m\u001b[0;34m+\u001b[0m\u001b[0;34m\"Name\"\u001b[0m\u001b[0;34m]\u001b[0m \u001b[0;34m=\u001b[0m \u001b[0mtimeseries\u001b[0m\u001b[0;34m[\u001b[0m\u001b[0;34m[\u001b[0m\u001b[0;34m'Variable'\u001b[0m\u001b[0;34m,\u001b[0m\u001b[0;34m'Window'\u001b[0m\u001b[0;34m]\u001b[0m\u001b[0;34m]\u001b[0m\u001b[0;34m.\u001b[0m\u001b[0mapply\u001b[0m\u001b[0;34m(\u001b[0m\u001b[0;32mlambda\u001b[0m \u001b[0mx\u001b[0m\u001b[0;34m:\u001b[0m\u001b[0mstr\u001b[0m\u001b[0;34m(\u001b[0m\u001b[0mx\u001b[0m\u001b[0;34m[\u001b[0m\u001b[0;36m0\u001b[0m\u001b[0;34m]\u001b[0m\u001b[0;34m)\u001b[0m\u001b[0;34m+\u001b[0m\u001b[0mstat\u001b[0m\u001b[0;34m+\u001b[0m\u001b[0mstr\u001b[0m\u001b[0;34m(\u001b[0m\u001b[0mx\u001b[0m\u001b[0;34m[\u001b[0m\u001b[0;36m1\u001b[0m\u001b[0;34m]\u001b[0m\u001b[0;34m)\u001b[0m\u001b[0;34m,\u001b[0m\u001b[0maxis\u001b[0m\u001b[0;34m=\u001b[0m\u001b[0;36m1\u001b[0m\u001b[0;34m)\u001b[0m\u001b[0;34m\u001b[0m\u001b[0;34m\u001b[0m\u001b[0m\n\u001b[0m\u001b[1;32m     76\u001b[0m       \u001b[0mwindow_labels\u001b[0m \u001b[0;34m=\u001b[0m \u001b[0;34m[\u001b[0m\u001b[0mstat\u001b[0m\u001b[0;34m+\u001b[0m\u001b[0mstr\u001b[0m\u001b[0;34m(\u001b[0m\u001b[0mw\u001b[0m\u001b[0;34m)\u001b[0m \u001b[0;32mfor\u001b[0m \u001b[0mw\u001b[0m \u001b[0;32min\u001b[0m \u001b[0mwindows\u001b[0m\u001b[0;34m]\u001b[0m\u001b[0;34m\u001b[0m\u001b[0;34m\u001b[0m\u001b[0m\n\u001b[1;32m     77\u001b[0m       \u001b[0mlabels\u001b[0m \u001b[0;34m=\u001b[0m \u001b[0;34m[\u001b[0m\u001b[0me1\u001b[0m\u001b[0;34m+\u001b[0m\u001b[0mstr\u001b[0m\u001b[0;34m(\u001b[0m\u001b[0me2\u001b[0m\u001b[0;34m)\u001b[0m \u001b[0;32mfor\u001b[0m \u001b[0me1\u001b[0m\u001b[0;34m,\u001b[0m\u001b[0me2\u001b[0m \u001b[0;32min\u001b[0m \u001b[0mproduct\u001b[0m\u001b[0;34m(\u001b[0m\u001b[0mtimeseries_variables\u001b[0m\u001b[0;34m,\u001b[0m \u001b[0mwindow_labels\u001b[0m\u001b[0;34m)\u001b[0m\u001b[0;34m]\u001b[0m\u001b[0;34m\u001b[0m\u001b[0;34m\u001b[0m\u001b[0m\n",
            "\u001b[0;32m/usr/local/lib/python3.7/dist-packages/pandas/core/series.py\u001b[0m in \u001b[0;36m__getitem__\u001b[0;34m(self, key)\u001b[0m\n\u001b[1;32m    927\u001b[0m \u001b[0;34m\u001b[0m\u001b[0m\n\u001b[1;32m    928\u001b[0m     \u001b[0;32mdef\u001b[0m \u001b[0m__getitem__\u001b[0m\u001b[0;34m(\u001b[0m\u001b[0mself\u001b[0m\u001b[0;34m,\u001b[0m \u001b[0mkey\u001b[0m\u001b[0;34m)\u001b[0m\u001b[0;34m:\u001b[0m\u001b[0;34m\u001b[0m\u001b[0;34m\u001b[0m\u001b[0m\n\u001b[0;32m--> 929\u001b[0;31m         \u001b[0mkey\u001b[0m \u001b[0;34m=\u001b[0m \u001b[0mcom\u001b[0m\u001b[0;34m.\u001b[0m\u001b[0mapply_if_callable\u001b[0m\u001b[0;34m(\u001b[0m\u001b[0mkey\u001b[0m\u001b[0;34m,\u001b[0m \u001b[0mself\u001b[0m\u001b[0;34m)\u001b[0m\u001b[0;34m\u001b[0m\u001b[0;34m\u001b[0m\u001b[0m\n\u001b[0m\u001b[1;32m    930\u001b[0m \u001b[0;34m\u001b[0m\u001b[0m\n\u001b[1;32m    931\u001b[0m         \u001b[0;32mif\u001b[0m \u001b[0mkey\u001b[0m \u001b[0;32mis\u001b[0m \u001b[0mEllipsis\u001b[0m\u001b[0;34m:\u001b[0m\u001b[0;34m\u001b[0m\u001b[0;34m\u001b[0m\u001b[0m\n",
            "\u001b[0;32m/usr/local/lib/python3.7/dist-packages/pandas/core/common.py\u001b[0m in \u001b[0;36mapply_if_callable\u001b[0;34m(maybe_callable, obj, **kwargs)\u001b[0m\n\u001b[1;32m    355\u001b[0m     \u001b[0;34m**\u001b[0m\u001b[0mkwargs\u001b[0m\u001b[0;34m\u001b[0m\u001b[0;34m\u001b[0m\u001b[0m\n\u001b[1;32m    356\u001b[0m     \"\"\"\n\u001b[0;32m--> 357\u001b[0;31m     \u001b[0;32mif\u001b[0m \u001b[0mcallable\u001b[0m\u001b[0;34m(\u001b[0m\u001b[0mmaybe_callable\u001b[0m\u001b[0;34m)\u001b[0m\u001b[0;34m:\u001b[0m\u001b[0;34m\u001b[0m\u001b[0;34m\u001b[0m\u001b[0m\n\u001b[0m\u001b[1;32m    358\u001b[0m         \u001b[0;32mreturn\u001b[0m \u001b[0mmaybe_callable\u001b[0m\u001b[0;34m(\u001b[0m\u001b[0mobj\u001b[0m\u001b[0;34m,\u001b[0m \u001b[0;34m**\u001b[0m\u001b[0mkwargs\u001b[0m\u001b[0;34m)\u001b[0m\u001b[0;34m\u001b[0m\u001b[0;34m\u001b[0m\u001b[0m\n\u001b[1;32m    359\u001b[0m \u001b[0;34m\u001b[0m\u001b[0m\n",
            "\u001b[0;31mKeyboardInterrupt\u001b[0m: "
          ]
        }
      ],
      "source": [
        "features = [generate_feature_vector(df,window_number=4) for _, df in tqdm(sorted(raw_data.items()),desc=\"generating feature vectors\",leave=True,position=0)]"
      ]
    },
    {
      "cell_type": "markdown",
      "metadata": {
        "id": "aBfVZriJnBzm"
      },
      "source": [
        "# Generate Rand Forest"
      ]
    },
    {
      "cell_type": "markdown",
      "metadata": {
        "id": "foVafMFXxQrr"
      },
      "source": [
        "\n",
        "## Impute, Normalize, Split Categorical\n"
      ]
    },
    {
      "cell_type": "code",
      "execution_count": null,
      "metadata": {
        "id": "VFGMQVfQfX-S"
      },
      "outputs": [],
      "source": [
        "df_features = pd.DataFrame(features).sort_index(axis=1)\n",
        "feature_names = df_features.columns.tolist()\n",
        "X, y = df_features.values, df_labels['In-hospital_death'].values"
      ]
    },
    {
      "cell_type": "code",
      "execution_count": null,
      "metadata": {
        "id": "O6LftTnzN-kY"
      },
      "outputs": [],
      "source": [
        "# drop nan filled columns\n",
        "df_features = df_features.dropna(axis=1, how='all')\n",
        "feature_names = df_features.columns.tolist()"
      ]
    },
    {
      "cell_type": "code",
      "execution_count": null,
      "metadata": {
        "id": "x7ViavRguN_w"
      },
      "outputs": [],
      "source": [
        "# impute ICUType with most frequent\n",
        "imputed_features = df_features.copy()\n",
        "imputed_features[\"ICUType\"] = df_features[\"ICUType\"].fillna(df_features[\"ICUType\"].value_counts().idxmax())"
      ]
    },
    {
      "cell_type": "code",
      "execution_count": null,
      "metadata": {
        "id": "MZJZXbrLwfhc"
      },
      "outputs": [],
      "source": [
        "#impute with impute_missing_data\n",
        "imputed_features = df_features.copy()\n",
        "X_imputed = imputed_features.values\n",
        "X_imputed = impute_missing_data(X_imputed)"
      ]
    },
    {
      "cell_type": "code",
      "execution_count": null,
      "metadata": {
        "id": "l5I_sZq7qzlk"
      },
      "outputs": [],
      "source": [
        "df_imputed = pd.DataFrame(X_imputed)\n",
        "df_imputed.columns = feature_names"
      ]
    },
    {
      "cell_type": "code",
      "execution_count": null,
      "metadata": {
        "id": "7OYI74HFgxfn"
      },
      "outputs": [],
      "source": [
        "enc = OneHotEncoder(handle_unknown='ignore')\n",
        "\n",
        "enc_df = pd.DataFrame(enc.fit_transform(df_imputed[['ICUType']]).toarray())\n",
        "enc_df.columns = [\"CoronaryICU\", \"CardiacICU\", \"MedicalICU\", \"SurgicalICU\"]\n",
        "df_final = df_imputed.join(enc_df).drop([\"ICUType\"],axis=1)\n",
        "pd.DataFrame(df_final)\n",
        "X_final = df_final.values\n"
      ]
    },
    {
      "cell_type": "code",
      "execution_count": null,
      "metadata": {
        "id": "kX4WwsA9OsZ-"
      },
      "outputs": [],
      "source": [
        "new_names = df_final.columns"
      ]
    },
    {
      "cell_type": "markdown",
      "metadata": {
        "id": "Jubu1qnaaxNS"
      },
      "source": [
        "## Rand Forest Setup"
      ]
    },
    {
      "cell_type": "code",
      "execution_count": null,
      "metadata": {
        "id": "9fjsd7TGbAQ2"
      },
      "outputs": [],
      "source": [
        "X_train, X_test, y_train, y_test = train_test_split(X_final, y, test_size=0.20, stratify=y, random_state=3)"
      ]
    },
    {
      "cell_type": "code",
      "execution_count": null,
      "metadata": {
        "id": "V5w8V7k8cJP-"
      },
      "outputs": [],
      "source": [
        "#max_features is default sqrt(# features)\n",
        "clf = RandomForestClassifier(n_estimators=100,\n",
        "                               bootstrap = True,\n",
        "                               max_features = 'sqrt')\n",
        "clf.fit(X_train,y_train)\n",
        "\n",
        "y_pred = clf.predict(X_test)\n",
        "y_prob = clf.predict_proba(X_test)[:, 1]"
      ]
    },
    {
      "cell_type": "markdown",
      "metadata": {
        "id": "8_cYDbQtsKWs"
      },
      "source": [
        "# Basic Analysis"
      ]
    },
    {
      "cell_type": "code",
      "execution_count": null,
      "metadata": {
        "colab": {
          "base_uri": "https://localhost:8080/"
        },
        "id": "v1YxhMw2bXww",
        "outputId": "1b386621-52b9-41b7-a9d6-b00f92249cad"
      },
      "outputs": [
        {
          "name": "stdout",
          "output_type": "stream",
          "text": [
            "test accuracy: 0.8685\n",
            "test precision: 0.6949152542372882\n",
            "test f1score: 0.23768115942028986\n",
            "test auroc: 0.815841975993668\n",
            "test recall: 0.14335664335664336\n"
          ]
        }
      ],
      "source": [
        "print('test accuracy:', metrics.accuracy_score(y_test, y_pred))\n",
        "print('test precision:', metrics.precision_score(y_test,y_pred))\n",
        "print('test f1score:', metrics.f1_score(y_test,y_pred))\n",
        "print('test auroc:', metrics.roc_auc_score(y_test,y_prob))\n",
        "print('test recall:', metrics.recall_score(y_test, y_pred))"
      ]
    },
    {
      "cell_type": "markdown",
      "metadata": {
        "id": "x-4l5aYjss5C"
      },
      "source": [
        "# Performance and Hyperparameters\n"
      ]
    },
    {
      "cell_type": "code",
      "execution_count": null,
      "metadata": {
        "colab": {
          "base_uri": "https://localhost:8080/"
        },
        "id": "WdXAInz9cT7C",
        "outputId": "66347acf-153b-4922-c4d1-389638d542c5"
      },
      "outputs": [
        {
          "name": "stdout",
          "output_type": "stream",
          "text": [
            "Accuracy: 0.869 (0.006)\n"
          ]
        }
      ],
      "source": [
        "# one type of cross-validation\n",
        "cv = RepeatedStratifiedKFold(n_splits=10, n_repeats=3, random_state=3)\n",
        "n_scores = cross_val_score(clf, X_train, y_train, scoring='accuracy', cv=cv, n_jobs=-1, error_score='raise')\n",
        "# report performance\n",
        "print('Accuracy: %.3f (%.3f)' % (np.mean(n_scores), np.std(n_scores)))"
      ]
    },
    {
      "cell_type": "code",
      "execution_count": null,
      "metadata": {
        "colab": {
          "base_uri": "https://localhost:8080/"
        },
        "id": "UXZLKOMBIcX9",
        "outputId": "8eb2b56d-3630-4886-8438-734af1d2e29a"
      },
      "outputs": [
        {
          "name": "stdout",
          "output_type": "stream",
          "text": [
            "{'n_estimators': [5, 12, 20, 27, 35, 43, 50, 58, 66, 73, 81, 88, 96, 104, 111, 119, 127, 134, 142, 150], 'max_features': ['auto', 'sqrt', 'log2'], 'max_depth': [5, 14, 24, 33, 43, 52, 62, 71, 81, 90, 100, 110, None], 'min_samples_split': [2, 5, 10, 12], 'min_samples_leaf': [1, 2, 4], 'bootstrap': [True, False]}\n"
          ]
        }
      ],
      "source": [
        "#Changing the numbers changes performance\n",
        "from sklearn.model_selection import RandomizedSearchCV\n",
        "\n",
        "# Number of trees in random forest\n",
        "n_estimators = [int(x) for x in np.linspace(start = 5, stop = 150, num = 20)]\n",
        "# Number of features to consider at every split\n",
        "max_features = ['auto', 'sqrt', 'log2']\n",
        "# Maximum number of levels in tree\n",
        "max_depth = [int(x) for x in np.linspace(5, 110, num = 12)]\n",
        "max_depth.append(None)\n",
        "# Minimum number of samples required to split a node\n",
        "min_samples_split = [2, 5, 10, 12]\n",
        "# Minimum number of samples required at each leaf node\n",
        "min_samples_leaf = [1, 2, 4]\n",
        "# Method of selecting samples for training each tree\n",
        "bootstrap = [True, False]\n",
        "# Create the random grid\n",
        "random_grid = {'n_estimators': n_estimators,\n",
        "               'max_features': max_features,\n",
        "               'max_depth': max_depth,\n",
        "               'min_samples_split': min_samples_split,\n",
        "               'min_samples_leaf': min_samples_leaf,\n",
        "               'bootstrap': bootstrap}\n",
        "print(random_grid)"
      ]
    },
    {
      "cell_type": "code",
      "execution_count": null,
      "metadata": {
        "colab": {
          "background_save": true,
          "base_uri": "https://localhost:8080/"
        },
        "id": "p5HeAM3mHTqH",
        "outputId": "e4d49093-5351-4b26-d4f0-cf6ca94daf8e"
      },
      "outputs": [
        {
          "name": "stdout",
          "output_type": "stream",
          "text": [
            "Fitting 3 folds for each of 60 candidates, totalling 180 fits\n"
          ]
        },
        {
          "data": {
            "text/plain": [
              "RandomizedSearchCV(cv=3, estimator=RandomForestClassifier(), n_iter=60,\n",
              "                   n_jobs=-1,\n",
              "                   param_distributions={'bootstrap': [True, False],\n",
              "                                        'max_depth': [5, 14, 24, 33, 43, 52, 62,\n",
              "                                                      71, 81, 90, 100, 110,\n",
              "                                                      None],\n",
              "                                        'max_features': ['auto', 'sqrt',\n",
              "                                                         'log2'],\n",
              "                                        'min_samples_leaf': [1, 2, 4],\n",
              "                                        'min_samples_split': [2, 5, 10, 12],\n",
              "                                        'n_estimators': [5, 12, 20, 27, 35, 43,\n",
              "                                                         50, 58, 66, 73, 81, 88,\n",
              "                                                         96, 104, 111, 119, 127,\n",
              "                                                         134, 142, 150]},\n",
              "                   random_state=42, scoring='precision', verbose=2)"
            ]
          },
          "execution_count": 28,
          "metadata": {},
          "output_type": "execute_result"
        }
      ],
      "source": [
        "#Took 5 minutes to run\n",
        "#Changing n_iter and cv will probably give better results, but it takes longer to run\n",
        "# Use the random grid to search for best hyperparameters\n",
        "# Random search of parameters, using 3 fold cross validation,\n",
        "# search across 50 different combinations, and use all available cores\n",
        "est_model = RandomForestClassifier()\n",
        "clf_random = RandomizedSearchCV(estimator = est_model, param_distributions = random_grid, n_iter = 60, cv = 3, verbose=2, random_state=42, n_jobs = -1, scoring = \"precision\")\n",
        "# Fit the random search model\n",
        "clf_random.fit(X_train, y_train)"
      ]
    },
    {
      "cell_type": "code",
      "execution_count": null,
      "metadata": {
        "colab": {
          "base_uri": "https://localhost:8080/"
        },
        "id": "I3j8y0F3N9ni",
        "outputId": "e23cd235-b014-4ebd-90c6-3009599d5473"
      },
      "outputs": [
        {
          "data": {
            "text/plain": [
              "{'n_estimators': 150,\n",
              " 'min_samples_split': 5,\n",
              " 'min_samples_leaf': 2,\n",
              " 'max_features': 'log2',\n",
              " 'max_depth': 100,\n",
              " 'bootstrap': False}"
            ]
          },
          "execution_count": 28,
          "metadata": {},
          "output_type": "execute_result"
        }
      ],
      "source": [
        "clf_random.best_params_"
      ]
    },
    {
      "cell_type": "code",
      "execution_count": null,
      "metadata": {
        "id": "I4b67mLiOSu1"
      },
      "outputs": [],
      "source": [
        "y_pred_random = clf_random.predict(X_test)\n",
        "y_prob_random = clf_random.predict_proba(X_test)[:, 1]"
      ]
    },
    {
      "cell_type": "code",
      "execution_count": null,
      "metadata": {
        "colab": {
          "base_uri": "https://localhost:8080/"
        },
        "id": "Gr3S30Eu3Mwl",
        "outputId": "53096c9d-ce69-4d93-a5d9-e10f3b3dff80"
      },
      "outputs": [
        {
          "name": "stdout",
          "output_type": "stream",
          "text": [
            "test accuracy: 0.865\n",
            "test precision: 0.6538461538461539\n",
            "test f1score: 0.20118343195266272\n",
            "test auroc: 0.8266456414064349\n",
            "test recall: 0.11888111888111888\n"
          ]
        }
      ],
      "source": [
        "print('test accuracy:', metrics.accuracy_score(y_test, y_pred_random))\n",
        "print('test precision:', metrics.precision_score(y_test,y_pred_random))\n",
        "print('test f1score:', metrics.f1_score(y_test,y_pred_random))\n",
        "print('test auroc:', metrics.roc_auc_score(y_test,y_prob_random))\n",
        "print('test recall:', metrics.recall_score(y_test, y_pred_random))"
      ]
    },
    {
      "cell_type": "code",
      "execution_count": null,
      "metadata": {
        "id": "aUsatPOeOqag"
      },
      "outputs": [],
      "source": [
        "from sklearn.model_selection import GridSearchCV\n",
        "# Create the parameter grid based on the results of random search\n",
        "param_grid = {\n",
        "    'bootstrap': [True],\n",
        "    #'max_depth': [100, 110, 120, 130, 140, 150],\n",
        "    'max_depth': [100],\n",
        "    'max_features': ['auto'],\n",
        "    #'min_samples_leaf': [1, 2, 3, 4, 5],\n",
        "    'min_samples_leaf': [2, 4],\n",
        "    #'min_samples_split': [2, 4, 6, 8, 10, 12],\n",
        "    'min_samples_split': [2, 6],\n",
        "    #'n_estimators': [100, 1000]\n",
        "    'n_estimators': [100, 500]\n",
        "}\n",
        "\n",
        "# Instantiate the grid search model\n",
        "grid_search = GridSearchCV(estimator = clf, param_grid = param_grid,\n",
        "                          cv = 3, n_jobs = -1, verbose = 2)"
      ]
    },
    {
      "cell_type": "code",
      "execution_count": null,
      "metadata": {
        "colab": {
          "base_uri": "https://localhost:8080/"
        },
        "id": "Ol3TIxFfO3eD",
        "outputId": "324f796c-aef0-460f-8580-7323e2f55fc5"
      },
      "outputs": [
        {
          "name": "stdout",
          "output_type": "stream",
          "text": [
            "Fitting 3 folds for each of 8 candidates, totalling 24 fits\n"
          ]
        },
        {
          "data": {
            "text/plain": [
              "{'bootstrap': True,\n",
              " 'max_depth': 100,\n",
              " 'max_features': 'auto',\n",
              " 'min_samples_leaf': 2,\n",
              " 'min_samples_split': 2,\n",
              " 'n_estimators': 100}"
            ]
          },
          "execution_count": 44,
          "metadata": {},
          "output_type": "execute_result"
        }
      ],
      "source": [
        "#Takes like 15 minutes\n",
        "# Fit the grid search to the data\n",
        "grid_search.fit(X_train, y_train)\n",
        "grid_search.best_params_"
      ]
    },
    {
      "cell_type": "code",
      "execution_count": null,
      "metadata": {
        "colab": {
          "base_uri": "https://localhost:8080/"
        },
        "id": "912q7IKoO-D-",
        "outputId": "0968c17b-e07a-4998-d1b9-5ea50f12b0ec"
      },
      "outputs": [
        {
          "data": {
            "text/plain": [
              "RandomForestClassifier(max_depth=100, min_samples_leaf=2)"
            ]
          },
          "execution_count": 47,
          "metadata": {},
          "output_type": "execute_result"
        }
      ],
      "source": [
        "best_grid = grid_search.best_estimator_\n",
        "best_grid\n",
        "#grid_accuracy = evaluate(best_grid, X_test, y_test)"
      ]
    },
    {
      "cell_type": "code",
      "execution_count": null,
      "metadata": {
        "id": "95MVow_lKj2U"
      },
      "outputs": [],
      "source": [
        "y_pred_grid = clf_random.predict(X_test)\n",
        "y_prob_grid = clf_random.predict_proba(X_test)[:, 1]"
      ]
    },
    {
      "cell_type": "code",
      "execution_count": null,
      "metadata": {
        "colab": {
          "base_uri": "https://localhost:8080/"
        },
        "id": "bqEW9qt7KmUK",
        "outputId": "1abe8dcf-f982-477d-9234-d6189ba7856c"
      },
      "outputs": [
        {
          "name": "stdout",
          "output_type": "stream",
          "text": [
            "test accuracy: 0.865\n",
            "test precision: 0.6538461538461539\n",
            "test f1score: 0.20118343195266272\n",
            "test auroc: 0.8266456414064349\n",
            "test recall: 0.11888111888111888\n"
          ]
        }
      ],
      "source": [
        "print('test accuracy:', metrics.accuracy_score(y_test, y_pred_grid))\n",
        "print('test precision:', metrics.precision_score(y_test,y_pred_grid))\n",
        "print('test f1score:', metrics.f1_score(y_test,y_pred_grid))\n",
        "print('test auroc:', metrics.roc_auc_score(y_test,y_prob_grid))\n",
        "print('test recall:', metrics.recall_score(y_test, y_pred_grid))"
      ]
    },
    {
      "cell_type": "code",
      "execution_count": null,
      "metadata": {
        "id": "oShuH-neCswP"
      },
      "outputs": [],
      "source": [
        "## TODO: write a funciton that calculates the following performance measures:\n",
        "#     accuracy, F1-Score, AUROC, precision, sensitivity, and specificity.\n",
        "#\n",
        "import warnings\n",
        "warnings.filterwarnings('ignore', category=exceptions.UndefinedMetricWarning)\n",
        "\n",
        "def calculate_performance(clf_trained, X, y_true, metric='accuracy'):\n",
        "    \"\"\"\n",
        "    Calculates the performance metric as evaluated on the true labels\n",
        "    y_true versus the predicted scores from clf_trained and X.\n",
        "    Input:\n",
        "        clf_trained: a fitted instance of sklearn estimator\n",
        "        X : (n,d) np.array containing features\n",
        "        y_true: (n,) np.array containing true labels\n",
        "        metric: string specifying the performance metric (default='accuracy'\n",
        "                 other options: 'f1-score', 'auroc', 'precision', 'sensitivity',\n",
        "                 and 'specificity')\n",
        "    Returns:\n",
        "        the performance measure as a float\n",
        "    \"\"\"\n",
        "    tn, fp, fn, tp = metrics.confusion_matrix(y_true, y_pred).ravel()\n",
        "    if metric.lower() == 'accuracy':\n",
        "        return metrics.accuracy_score(y_true, y_pred)\n",
        "    elif metric.lower() == 'auroc':\n",
        "        return metrics.roc_auc_score(y_true, y_prob)\n",
        "    elif metric.lower() == 'f1_score' or metric.lower() == 'f1-score':\n",
        "        return metrics.f1_score(y_true, y_pred)\n",
        "    elif metric.lower() == 'precision':\n",
        "        return metrics.precision_score(y_true, y_pred)\n",
        "    elif metric.lower() == 'sensitivity':\n",
        "        if tp + fn > 0:\n",
        "            return tp / (tp+fn)\n",
        "        else:\n",
        "            return 0.0\n",
        "    elif metric.lower() == 'specificity':\n",
        "        if tn + fp > 0:\n",
        "            return tn / (tn+fp)\n",
        "        else:\n",
        "            return 0.0\n",
        "    else:\n",
        "        raise NotImplementedError"
      ]
    },
    {
      "cell_type": "code",
      "execution_count": null,
      "metadata": {
        "colab": {
          "base_uri": "https://localhost:8080/",
          "height": 338
        },
        "id": "Bi5PpHbYCnQK",
        "outputId": "9e92bd46-14bc-41c8-aeb2-40e061170e07"
      },
      "outputs": [
        {
          "data": {
            "image/png": "[encoded data removed]",
            "text/plain": [
              "<Figure size 360x360 with 1 Axes>"
            ]
          },
          "metadata": {},
          "output_type": "display_data"
        }
      ],
      "source": [
        "# TODO: Plot ROC curve and calculate AUROC score\n",
        "# ROC curve\n",
        "fig, ax = plt.subplots(figsize=(5, 5))\n",
        "fpr, tpr, thresholds = metrics.roc_curve(y_test, y_prob)\n",
        "plt.plot(fpr, tpr, label='AUROC={:.3f}'.format(metrics.auc(fpr, tpr)))\n",
        "plt.xlabel('False Positive Rate')\n",
        "plt.ylabel('True Positive Rate')\n",
        "plt.plot([0,1], [0,1], 'k:')\n",
        "plt.xlim(0,1)\n",
        "plt.ylim(0,1)\n",
        "plt.legend(loc='lower right')\n",
        "plt.show()"
      ]
    },
    {
      "cell_type": "code",
      "execution_count": null,
      "metadata": {
        "id": "dNkDSTUwJepS"
      },
      "outputs": [],
      "source": [
        "fi = pd.DataFrame({'feature': list(df_final.columns),\n",
        "                   'importance': clf.feature_importances_}).\\\n",
        "                    sort_values('importance', ascending = False)\n",
        "top = fi.head(4)['feature'].values.tolist()\n",
        "\n",
        "# visualize decision tree for top important features\n",
        "names = top\n",
        "df_top = df_final[top]\n",
        "X_top = df_top.values"
      ]
    },
    {
      "cell_type": "code",
      "execution_count": null,
      "metadata": {
        "colab": {
          "base_uri": "https://localhost:8080/",
          "height": 363
        },
        "id": "Kp83mYW32jQh",
        "outputId": "1a535630-7d8f-4802-9af6-8558383e6494"
      },
      "outputs": [
        {
          "ename": "TypeError",
          "evalue": "ignored",
          "output_type": "error",
          "traceback": [
            "\u001b[0;31m---------------------------------------------------------------------------\u001b[0m",
            "\u001b[0;31mTypeError\u001b[0m                                 Traceback (most recent call last)",
            "\u001b[0;32m<ipython-input-54-8065b66e82dd>\u001b[0m in \u001b[0;36m<module>\u001b[0;34m\u001b[0m\n\u001b[1;32m      4\u001b[0m sns.pairplot(X_top, diag_kind = 'hist',\n\u001b[1;32m      5\u001b[0m              \u001b[0mplot_kws\u001b[0m \u001b[0;34m=\u001b[0m \u001b[0;34m{\u001b[0m\u001b[0;34m'alpha'\u001b[0m\u001b[0;34m:\u001b[0m \u001b[0;36m0.6\u001b[0m\u001b[0;34m,\u001b[0m \u001b[0;34m's'\u001b[0m\u001b[0;34m:\u001b[0m \u001b[0;36m40\u001b[0m\u001b[0;34m,\u001b[0m \u001b[0;34m'edgecolor'\u001b[0m\u001b[0;34m:\u001b[0m \u001b[0;34m'k'\u001b[0m\u001b[0;34m}\u001b[0m\u001b[0;34m,\u001b[0m\u001b[0;34m\u001b[0m\u001b[0;34m\u001b[0m\u001b[0m\n\u001b[0;32m----> 6\u001b[0;31m              height = 2)\n\u001b[0m",
            "\u001b[0;32m/usr/local/lib/python3.7/dist-packages/seaborn/_decorators.py\u001b[0m in \u001b[0;36minner_f\u001b[0;34m(*args, **kwargs)\u001b[0m\n\u001b[1;32m     44\u001b[0m             )\n\u001b[1;32m     45\u001b[0m         \u001b[0mkwargs\u001b[0m\u001b[0;34m.\u001b[0m\u001b[0mupdate\u001b[0m\u001b[0;34m(\u001b[0m\u001b[0;34m{\u001b[0m\u001b[0mk\u001b[0m\u001b[0;34m:\u001b[0m \u001b[0marg\u001b[0m \u001b[0;32mfor\u001b[0m \u001b[0mk\u001b[0m\u001b[0;34m,\u001b[0m \u001b[0marg\u001b[0m \u001b[0;32min\u001b[0m \u001b[0mzip\u001b[0m\u001b[0;34m(\u001b[0m\u001b[0msig\u001b[0m\u001b[0;34m.\u001b[0m\u001b[0mparameters\u001b[0m\u001b[0;34m,\u001b[0m \u001b[0margs\u001b[0m\u001b[0;34m)\u001b[0m\u001b[0;34m}\u001b[0m\u001b[0;34m)\u001b[0m\u001b[0;34m\u001b[0m\u001b[0;34m\u001b[0m\u001b[0m\n\u001b[0;32m---> 46\u001b[0;31m         \u001b[0;32mreturn\u001b[0m \u001b[0mf\u001b[0m\u001b[0;34m(\u001b[0m\u001b[0;34m**\u001b[0m\u001b[0mkwargs\u001b[0m\u001b[0;34m)\u001b[0m\u001b[0;34m\u001b[0m\u001b[0;34m\u001b[0m\u001b[0m\n\u001b[0m\u001b[1;32m     47\u001b[0m     \u001b[0;32mreturn\u001b[0m \u001b[0minner_f\u001b[0m\u001b[0;34m\u001b[0m\u001b[0;34m\u001b[0m\u001b[0m\n\u001b[1;32m     48\u001b[0m \u001b[0;34m\u001b[0m\u001b[0m\n",
            "\u001b[0;32m/usr/local/lib/python3.7/dist-packages/seaborn/axisgrid.py\u001b[0m in \u001b[0;36mpairplot\u001b[0;34m(data, hue, hue_order, palette, vars, x_vars, y_vars, kind, diag_kind, markers, height, aspect, corner, dropna, plot_kws, diag_kws, grid_kws, size)\u001b[0m\n\u001b[1;32m   2079\u001b[0m         raise TypeError(\n\u001b[1;32m   2080\u001b[0m             \"'data' must be pandas DataFrame object, not: {typefound}\".format(\n\u001b[0;32m-> 2081\u001b[0;31m                 typefound=type(data)))\n\u001b[0m\u001b[1;32m   2082\u001b[0m \u001b[0;34m\u001b[0m\u001b[0m\n\u001b[1;32m   2083\u001b[0m     \u001b[0mplot_kws\u001b[0m \u001b[0;34m=\u001b[0m \u001b[0;34m{\u001b[0m\u001b[0;34m}\u001b[0m \u001b[0;32mif\u001b[0m \u001b[0mplot_kws\u001b[0m \u001b[0;32mis\u001b[0m \u001b[0;32mNone\u001b[0m \u001b[0;32melse\u001b[0m \u001b[0mplot_kws\u001b[0m\u001b[0;34m.\u001b[0m\u001b[0mcopy\u001b[0m\u001b[0;34m(\u001b[0m\u001b[0;34m)\u001b[0m\u001b[0;34m\u001b[0m\u001b[0;34m\u001b[0m\u001b[0m\n",
            "\u001b[0;31mTypeError\u001b[0m: 'data' must be pandas DataFrame object, not: <class 'numpy.ndarray'>"
          ]
        }
      ],
      "source": [
        "# Pairplot\n",
        "import seaborn as sns\n",
        "# Create the pairplot\n",
        "sns.pairplot(X_top, diag_kind = 'hist',\n",
        "             plot_kws = {'alpha': 0.6, 's': 40, 'edgecolor': 'k'},\n",
        "             height = 2)"
      ]
    },
    {
      "cell_type": "code",
      "execution_count": null,
      "metadata": {
        "colab": {
          "base_uri": "https://localhost:8080/",
          "height": 765
        },
        "id": "0HyYQaK4TIGY",
        "outputId": "3207d3e8-8c02-4f71-c6d5-b1980cbca01c"
      },
      "outputs": [
        {
          "data": {
            "image/png": "[encoded data removed]",
            "text/plain": [
              "<Figure size 864x864 with 2 Axes>"
            ]
          },
          "metadata": {},
          "output_type": "display_data"
        }
      ],
      "source": [
        "#Confusion Matrix 1\n",
        "import seaborn as sns\n",
        "\n",
        "# Get and reshape confusion matrix data\n",
        "matrix = metrics.confusion_matrix(y_test, y_pred)\n",
        "matrix = matrix.astype('float') / matrix.sum(axis=1)[:, np.newaxis]\n",
        "\n",
        "# Build the plot\n",
        "plt.figure(figsize=(12,12))\n",
        "sns.set(font_scale=1.4)\n",
        "sns.heatmap(matrix, annot=True, annot_kws={'size':10},\n",
        "            cmap=plt.cm.Greens, linewidths=0.2)\n",
        "\n",
        "# Add labels to the plot\n",
        "class_names = ['Dead', 'Alive']\n",
        "tick_marks = np.arange(len(class_names))\n",
        "tick_marks2 = tick_marks + 0.5\n",
        "plt.xticks(tick_marks, class_names, rotation=25)\n",
        "plt.yticks(tick_marks2, class_names, rotation=0)\n",
        "plt.xlabel('Predicted label')\n",
        "plt.ylabel('True label')\n",
        "plt.title('Confusion Matrix for Random Forest Model')\n",
        "plt.show()"
      ]
    },
    {
      "cell_type": "code",
      "execution_count": null,
      "metadata": {
        "colab": {
          "base_uri": "https://localhost:8080/",
          "height": 350
        },
        "id": "tIZ4a9AF6QBC",
        "outputId": "3eca56c9-f3ba-44c1-dff1-c70f35a31050"
      },
      "outputs": [
        {
          "name": "stderr",
          "output_type": "stream",
          "text": [
            "/usr/local/lib/python3.7/dist-packages/sklearn/utils/deprecation.py:87: FutureWarning: Function plot_confusion_matrix is deprecated; Function `plot_confusion_matrix` is deprecated in 1.0 and will be removed in 1.2. Use one of the class methods: ConfusionMatrixDisplay.from_predictions or ConfusionMatrixDisplay.from_estimator.\n",
            "  warnings.warn(msg, category=FutureWarning)\n"
          ]
        },
        {
          "data": {
            "image/png": "[encoded data removed]",
            "text/plain": [
              "<Figure size 432x288 with 2 Axes>"
            ]
          },
          "metadata": {},
          "output_type": "display_data"
        }
      ],
      "source": [
        "#Another confusion matrix\n",
        "from sklearn.metrics import plot_confusion_matrix\n",
        "\n",
        "plot_confusion_matrix(clf, X_test, y_test)\n",
        "plt.show()"
      ]
    }
  ],
  "metadata": {
    "colab": {
      "collapsed_sections": [
        "aBfVZriJnBzm",
        "foVafMFXxQrr",
        "Jubu1qnaaxNS"
      ],
      "provenance": []
    },
    "kernelspec": {
      "display_name": "Python 3",
      "language": "python",
      "name": "python3"
    },
    "language_info": {
      "codemirror_mode": {
        "name": "ipython",
        "version": 3
      },
      "file_extension": ".py",
      "mimetype": "text/x-python",
      "name": "python",
      "nbconvert_exporter": "python",
      "pygments_lexer": "ipython3",
      "version": "3.7.3"
    }
  },
  "nbformat": 4,
  "nbformat_minor": 0
}